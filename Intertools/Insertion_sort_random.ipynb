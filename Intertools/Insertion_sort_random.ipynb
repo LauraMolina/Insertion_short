{
 "cells": [
  {
   "cell_type": "code",
   "execution_count": 1,
   "metadata": {},
   "outputs": [],
   "source": [
    "from itertools import *\n",
    "import random\n",
    "import math\n",
    "import matplotlib.pyplot as plt"
   ]
  },
  {
   "cell_type": "code",
   "execution_count": 2,
   "metadata": {},
   "outputs": [],
   "source": [
    "def insertion_short(A):\n",
    "    comparaciones = 0\n",
    "    intercambios = 0\n",
    "    for i in range(1,len(A)):\n",
    "        temp = A[i]\n",
    "        j = i\n",
    "        comparaciones += 1\n",
    "        while j > 0 and temp < A[j-1]:\n",
    "            if j != i:\n",
    "                comparaciones += 1\n",
    "            A[j] = A[j-1]\n",
    "            j = j-1\n",
    "            intercambios += 1\n",
    "        A[j] = temp\n",
    "        if (j > 0 and j != i and temp > A[j - 1]) or (j != i and j == 0):\n",
    "            comparaciones += 1\n",
    "\n",
    "    instrucciones = comparaciones + intercambios\n",
    "    resultados = []\n",
    "    resultados.append(instrucciones)\n",
    "    resultados.append(comparaciones)\n",
    "    resultados.append(intercambios)\n",
    "    return resultados"
   ]
  },
  {
   "cell_type": "code",
   "execution_count": 3,
   "metadata": {},
   "outputs": [
    {
     "name": "stdout",
     "output_type": "stream",
     "text": [
      "ARREGLO DE TAMAÑO 2\n",
      "Número aleatorio de permutaciones: 2\n",
      "La cantidad de instrucciones promedio es: 2.0\n",
      "La cantidad de comparaciones promedio es: 1.5\n",
      "La cantidad de intercambios promedio es: 0.5\n",
      "-----------------------\n",
      "ARREGLO DE TAMAÑO 3\n",
      "Número aleatorio de permutaciones: 2\n",
      "La cantidad de instrucciones promedio es: 4.0\n",
      "La cantidad de comparaciones promedio es: 3.0\n",
      "La cantidad de intercambios promedio es: 1.0\n",
      "-----------------------\n",
      "ARREGLO DE TAMAÑO 4\n",
      "Número aleatorio de permutaciones: 19\n",
      "La cantidad de instrucciones promedio es: 8.789473684210526\n",
      "La cantidad de comparaciones promedio es: 5.894736842105263\n",
      "La cantidad de intercambios promedio es: 2.8947368421052633\n",
      "-----------------------\n",
      "ARREGLO DE TAMAÑO 5\n",
      "Número aleatorio de permutaciones: 98\n",
      "La cantidad de instrucciones promedio es: 13.795918367346939\n",
      "La cantidad de comparaciones promedio es: 8.89795918367347\n",
      "La cantidad de intercambios promedio es: 4.8979591836734695\n",
      "-----------------------\n",
      "ARREGLO DE TAMAÑO 6\n",
      "Número aleatorio de permutaciones: 208\n",
      "La cantidad de instrucciones promedio es: 19.432692307692307\n",
      "La cantidad de comparaciones promedio es: 12.216346153846153\n",
      "La cantidad de intercambios promedio es: 7.216346153846154\n",
      "-----------------------\n",
      "ARREGLO DE TAMAÑO 7\n",
      "Número aleatorio de permutaciones: 1443\n",
      "La cantidad de instrucciones promedio es: 27.024255024255023\n",
      "La cantidad de comparaciones promedio es: 16.512127512127513\n",
      "La cantidad de intercambios promedio es: 10.512127512127512\n",
      "-----------------------\n",
      "ARREGLO DE TAMAÑO 8\n",
      "Número aleatorio de permutaciones: 20847\n",
      "La cantidad de instrucciones promedio es: 35.029068930781406\n",
      "La cantidad de comparaciones promedio es: 21.014534465390703\n",
      "La cantidad de intercambios promedio es: 14.014534465390703\n",
      "-----------------------\n",
      "ARREGLO DE TAMAÑO 9\n",
      "Número aleatorio de permutaciones: 341204\n",
      "La cantidad de instrucciones promedio es: 44.00077373067139\n",
      "La cantidad de comparaciones promedio es: 26.000386865335695\n",
      "La cantidad de intercambios promedio es: 18.000386865335695\n",
      "-----------------------\n",
      "ARREGLO DE TAMAÑO 10\n",
      "Número aleatorio de permutaciones: 379779\n",
      "La cantidad de instrucciones promedio es: 53.95002093322696\n",
      "La cantidad de comparaciones promedio es: 31.47501046661348\n",
      "La cantidad de intercambios promedio es: 22.47501046661348\n",
      "-----------------------\n"
     ]
    }
   ],
   "source": [
    "for n in range(2,11):\n",
    "    perm = []\n",
    "    A = list(i for i in range(n))\n",
    "    acum_ins = 0\n",
    "    acum_c = 0\n",
    "    acum_int = 0\n",
    "    n1 = random.randint(1, math.factorial(n))\n",
    "    permutaciones = list(permutations(A))\n",
    "    random.shuffle(permutaciones)\n",
    "    for a in range(n1):\n",
    "        acum = insertion_short(list(permutaciones[a]))\n",
    "        acum_ins += acum[0]\n",
    "        acum_c += acum[1]\n",
    "        acum_int += acum[2]\n",
    "\n",
    "    print('ARREGLO DE TAMAÑO {}'.format(n))\n",
    "    print('Número aleatorio de permutaciones: {}'.format(n1))\n",
    "    print('La cantidad de instrucciones promedio es: {}'.format(float(acum_ins / n1)))\n",
    "    print('La cantidad de comparaciones promedio es: {}'.format(float(acum_c / n1)))\n",
    "    print('La cantidad de intercambios promedio es: {}'.format(float(acum_int / n1)))\n",
    "    print('-----------------------')\n",
    "    "
   ]
  },
  {
   "cell_type": "code",
   "execution_count": null,
   "metadata": {},
   "outputs": [],
   "source": []
  }
 ],
 "metadata": {
  "kernelspec": {
   "display_name": "Python 3",
   "language": "python",
   "name": "python3"
  },
  "language_info": {
   "codemirror_mode": {
    "name": "ipython",
    "version": 3
   },
   "file_extension": ".py",
   "mimetype": "text/x-python",
   "name": "python",
   "nbconvert_exporter": "python",
   "pygments_lexer": "ipython3",
   "version": "3.6.4"
  }
 },
 "nbformat": 4,
 "nbformat_minor": 2
}
