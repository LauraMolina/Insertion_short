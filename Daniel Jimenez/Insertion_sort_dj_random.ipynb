{
 "cells": [
  {
   "cell_type": "code",
   "execution_count": 1,
   "metadata": {},
   "outputs": [
    {
     "name": "stdout",
     "output_type": "stream",
     "text": [
      "ARREGLO DE TAMAÑO 10\n",
      "Número aleatorio de permutaciones: 2565280\n",
      "La cantidad de instrucciones promedio es: 54.001191292958275\n",
      "La cantidad de comparaciones promedio es: 31.500595646479137\n",
      "La cantidad de intercambios promedio es: 22.500595646479137\n",
      "-----------------------\n"
     ]
    }
   ],
   "source": [
    "import random\n",
    "import math\n",
    "\n",
    "def swap(v, i, j):\n",
    "\tt = v[i]\n",
    "\tv[i] = v[j]\n",
    "\tv[j] = t\n",
    "\n",
    "def perm(v, i, n):\n",
    "    if i == n:\n",
    "        v1 = v[:]\n",
    "        permutaciones.append(v1)\n",
    "    else:\n",
    "        for j in range(i, n):\n",
    "            swap(v, i, j)\n",
    "            perm(v, i + 1, n)\n",
    "            swap(v, i, j)\n",
    "\n",
    "\n",
    "def insertion_short(A):\n",
    "    comparaciones = 0\n",
    "    intercambios = 0\n",
    "    for i in range(1,len(A)):\n",
    "        temp = A[i]\n",
    "        j = i\n",
    "        comparaciones += 1\n",
    "        while j > 0 and temp < A[j-1]:\n",
    "            if j != i:\n",
    "                comparaciones += 1\n",
    "            A[j] = A[j-1]\n",
    "            j = j-1\n",
    "            intercambios += 1\n",
    "        A[j] = temp\n",
    "        if (j > 0 and j != i and temp > A[j - 1]) or (j != i and j == 0):\n",
    "            comparaciones += 1\n",
    "\n",
    "    instrucciones = comparaciones + intercambios\n",
    "    resultados = []\n",
    "    resultados.append(instrucciones)\n",
    "    resultados.append(comparaciones)\n",
    "    resultados.append(intercambios)\n",
    "    return resultados\n",
    "\n",
    "n = 10\n",
    "A = list(i for i in range(n))\n",
    "acum_ins = 0\n",
    "acum_c = 0\n",
    "acum_int = 0\n",
    "n1 = random.randint(1, math.factorial(n))\n",
    "permutaciones = []\n",
    "perm(A, 0, n)\n",
    "random.shuffle(permutaciones)\n",
    "#print(permutaciones)\n",
    "# print(n1)\n",
    "for a in range(n1):\n",
    "    # print(a)\n",
    "    acum = insertion_short(list(permutaciones[a]))\n",
    "    acum_ins += acum[0]\n",
    "    acum_c += acum[1]\n",
    "    acum_int += acum[2]\n",
    "    # print(permutaciones)\n",
    "\n",
    "print('ARREGLO DE TAMAÑO {}'.format(n))\n",
    "print('Número aleatorio de permutaciones: {}'.format(n1))\n",
    "print('La cantidad de instrucciones promedio es: {}'.format(float(acum_ins / n1)))\n",
    "print('La cantidad de comparaciones promedio es: {}'.format(float(acum_c / n1)))\n",
    "print('La cantidad de intercambios promedio es: {}'.format(float(acum_int / n1)))\n",
    "print('-----------------------')\n"
   ]
  },
  {
   "cell_type": "code",
   "execution_count": null,
   "metadata": {},
   "outputs": [],
   "source": []
  },
  {
   "cell_type": "code",
   "execution_count": null,
   "metadata": {},
   "outputs": [],
   "source": []
  }
 ],
 "metadata": {
  "kernelspec": {
   "display_name": "Python 3",
   "language": "python",
   "name": "python3"
  },
  "language_info": {
   "codemirror_mode": {
    "name": "ipython",
    "version": 3
   },
   "file_extension": ".py",
   "mimetype": "text/x-python",
   "name": "python",
   "nbconvert_exporter": "python",
   "pygments_lexer": "ipython3",
   "version": "3.6.4"
  }
 },
 "nbformat": 4,
 "nbformat_minor": 2
}
