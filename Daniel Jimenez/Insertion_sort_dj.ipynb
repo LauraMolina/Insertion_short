{
 "cells": [
  {
   "cell_type": "code",
   "execution_count": 1,
   "metadata": {},
   "outputs": [
    {
     "name": "stdout",
     "output_type": "stream",
     "text": [
      "ARREGLO DE TAMAÑO 10\n",
      "La cantidad de instrucciones promedio es: 54.0\n",
      "La cantidad de comparaciones promedio es: 31.5\n",
      "La cantidad de intercambios promedio es: 22.5\n",
      "-----------------------\n"
     ]
    }
   ],
   "source": [
    "def swap(v, i, j):\n",
    "\tt = v[i]\n",
    "\tv[i] = v[j]\n",
    "\tv[j] = t\n",
    "\n",
    "def perm(v, i, n):\n",
    "    if i == n:\n",
    "        v1 = v[:]\n",
    "        permutaciones.append(v1)\n",
    "    else:\n",
    "        for j in range(i, n):\n",
    "            swap(v, i, j)\n",
    "            perm(v, i + 1, n)\n",
    "            swap(v, i, j)\n",
    "\n",
    "            \n",
    "def insertion_short(A):\n",
    "    comparaciones = 0\n",
    "    intercambios = 0\n",
    "    for i in range(1,len(A)):\n",
    "        temp = A[i]\n",
    "        j = i\n",
    "        comparaciones += 1\n",
    "        while j > 0 and temp < A[j-1]:\n",
    "            if j != i:\n",
    "                comparaciones += 1\n",
    "            A[j] = A[j-1]\n",
    "            j = j-1\n",
    "            intercambios += 1\n",
    "        A[j] = temp\n",
    "        if (j > 0 and j != i and temp > A[j-1]) or (j != i and j == 0): #comparación con la nada o con el anterior cuando temp > A[j-1]\n",
    "            comparaciones += 1\n",
    "\n",
    "\n",
    "    instrucciones = comparaciones + intercambios\n",
    "    resultados = []\n",
    "    resultados.append(instrucciones)\n",
    "    resultados.append(comparaciones)\n",
    "    resultados.append(intercambios)\n",
    "    return resultados\n",
    "\n",
    "n = 10\n",
    "A = list(i for i in range(n))\n",
    "acum_ins = 0\n",
    "acum_c = 0\n",
    "acum_int = 0\n",
    "long = 0\n",
    "permutaciones = []\n",
    "perm(A, 0, n)\n",
    "for a in range(len(permutaciones)):\n",
    "    acum = insertion_short(permutaciones[a])\n",
    "    acum_ins += acum[0]\n",
    "    acum_c += acum[1]\n",
    "    acum_int += acum[2]\n",
    "    long += 1\n",
    "\n",
    "print('ARREGLO DE TAMAÑO {}'.format(n))\n",
    "print('La cantidad de instrucciones promedio es: {}'.format(float(acum_ins / long)))\n",
    "print('La cantidad de comparaciones promedio es: {}'.format(float(acum_c / long)))\n",
    "print('La cantidad de intercambios promedio es: {}'.format(float(acum_int / long)))\n",
    "print('-----------------------')\n",
    "\n"
   ]
  },
  {
   "cell_type": "code",
   "execution_count": null,
   "metadata": {},
   "outputs": [],
   "source": []
  }
 ],
 "metadata": {
  "kernelspec": {
   "display_name": "Python 3",
   "language": "python",
   "name": "python3"
  },
  "language_info": {
   "codemirror_mode": {
    "name": "ipython",
    "version": 3
   },
   "file_extension": ".py",
   "mimetype": "text/x-python",
   "name": "python",
   "nbconvert_exporter": "python",
   "pygments_lexer": "ipython3",
   "version": "3.6.4"
  }
 },
 "nbformat": 4,
 "nbformat_minor": 2
}
